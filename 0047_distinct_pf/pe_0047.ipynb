{
 "cells": [
  {
   "cell_type": "markdown",
   "metadata": {},
   "source": [
    "<p>The first two consecutive numbers to have two distinct prime factors are:</p>\n",
    "\\begin{align}\n",
    "14 = 2 \\times 7\\\\\n",
    "15 = 3 \\times 5.\n",
    "\\end{align}\n",
    "<p>The first three consecutive numbers to have three distinct prime factors are:</p>\n",
    "\\begin{align}\n",
    "644 = 2^2 \\times 7 \\times 23\\\\\n",
    "645 = 3 \\times 5 \\times 43\\\\\n",
    "646 = 2 \\times 17 \\times 19.\n",
    "\\end{align}\n",
    "<p>Find the first four consecutive integers to have four distinct prime factors each. What is the first of these numbers?</p>"
   ]
  },
  {
   "cell_type": "code",
   "execution_count": null,
   "metadata": {},
   "outputs": [],
   "source": []
  },
  {
   "cell_type": "code",
   "execution_count": 5,
   "metadata": {},
   "outputs": [
    {
     "name": "stdout",
     "output_type": "stream",
     "text": [
      "[2, 23, 7]\n"
     ]
    }
   ],
   "source": [
    "# code extracted from PE_0069 folder to generate prime factors\n",
    "\n",
    "def prime_factors(num: int) -> list:\n",
    "    '''\n",
    "    - generates the list of prime factors of a given \n",
    "    positive integer num\n",
    "    '''\n",
    "    prime_factors: list = []\n",
    "    for term in range(2, num):\n",
    "        while num % term == 0:\n",
    "            if num == 1:\n",
    "                return\n",
    "            num = num / term\n",
    "            prime_factors.append(term)\n",
    "    return prime_factors\n",
    "\n",
    "if __name__ == \"__main__\":\n",
    "    # creates a list of distinct prime factors\n",
    "    distinct_pf: list = list(set(prime_factors(644)))\n",
    "    \n",
    "    print(\"{}\".format(distinct_pf))"
   ]
  },
  {
   "cell_type": "code",
   "execution_count": null,
   "metadata": {},
   "outputs": [],
   "source": []
  },
  {
   "cell_type": "code",
   "execution_count": null,
   "metadata": {},
   "outputs": [],
   "source": []
  },
  {
   "cell_type": "code",
   "execution_count": 25,
   "metadata": {},
   "outputs": [
    {
     "name": "stdout",
     "output_type": "stream",
     "text": [
      "i: 30, pfs: [2, 3, 5], consec: 1, consec_max: 0\n",
      "i: 42, pfs: [2, 3, 7], consec: 1, consec_max: 1\n",
      "i: 60, pfs: [2, 3, 5], consec: 1, consec_max: 1\n",
      "i: 66, pfs: [11, 2, 3], consec: 1, consec_max: 1\n",
      "i: 70, pfs: [2, 5, 7], consec: 1, consec_max: 1\n",
      "i: 78, pfs: [2, 3, 13], consec: 1, consec_max: 1\n",
      "i: 84, pfs: [2, 3, 7], consec: 1, consec_max: 1\n",
      "i: 90, pfs: [2, 3, 5], consec: 1, consec_max: 1\n"
     ]
    }
   ],
   "source": [
    "# PE0047 MAIN PROGRAM\n",
    "# - pretty straightforward\n",
    "\n",
    "N: int = 100                    # max of numbers to factor\n",
    "LEN: int = 3                       # number of distinct pfs\n",
    "    \n",
    "def distinct_pf(num: int) -> list:\n",
    "    '''\n",
    "    - generates the list of DISTINCT prime factors of a \n",
    "    given positive integer num\n",
    "    '''\n",
    "    prime_factors: list = []\n",
    "    for term in range(2, num):\n",
    "        while num % term == 0:\n",
    "            if num == 1:\n",
    "                return\n",
    "            num = num / term\n",
    "            prime_factors.append(term)\n",
    "    return list(set(prime_factors))\n",
    "\n",
    "if __name__ == \"__main__\":\n",
    "    consec: int = 0\n",
    "    consec_max: int = 0\n",
    "    \n",
    "    limit: int = LEN\n",
    "    # print all ints that have LEN distinct prime factors\n",
    "    for i in range(0, N):\n",
    "        pfs: list = distinct_pf(i)\n",
    "        if len(pfs) == LEN:\n",
    "            consec += 1\n",
    "            print(\"i: {0}, pfs: {1}, consec: {2}, consec_max: {3}\".format(i, pfs, consec, consec_max))\n",
    "        else:\n",
    "            consec = 0\n",
    "        consec_max = max(consec_max, consec)"
   ]
  },
  {
   "cell_type": "code",
   "execution_count": null,
   "metadata": {},
   "outputs": [],
   "source": []
  },
  {
   "cell_type": "code",
   "execution_count": 24,
   "metadata": {},
   "outputs": [],
   "source": [
    "# Took a while, but\n",
    "\n",
    "# i: 134043, pfs: [3, 491, 13, 7], consec: 1, consec_max: 3\n",
    "# i: 134044, pfs: [2, 31, 47, 23], consec: 2, consec_max: 3\n",
    "# i: 134045, pfs: [17, 83, 19, 5], consec: 3, consec_max: 3\n",
    "# i: 134046, pfs: [11, 2, 3, 677], consec: 4, consec_max: 4\n",
    "\n",
    "# are the first four consecutive integers to have four distinct prime factors each"
   ]
  },
  {
   "cell_type": "code",
   "execution_count": null,
   "metadata": {},
   "outputs": [],
   "source": []
  }
 ],
 "metadata": {
  "kernelspec": {
   "display_name": "Python 3",
   "language": "python",
   "name": "python3"
  },
  "language_info": {
   "codemirror_mode": {
    "name": "ipython",
    "version": 3
   },
   "file_extension": ".py",
   "mimetype": "text/x-python",
   "name": "python",
   "nbconvert_exporter": "python",
   "pygments_lexer": "ipython3",
   "version": "3.7.3"
  }
 },
 "nbformat": 4,
 "nbformat_minor": 4
}
