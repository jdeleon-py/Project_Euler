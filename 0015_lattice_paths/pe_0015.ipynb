{
 "cells": [
  {
   "cell_type": "markdown",
   "metadata": {},
   "source": [
    "<p>Starting in the top left corner of a $2 \\times 2$ grid, and only being able to move to the right and down, there are exactly $6$ routes to the bottom right corner.</p>\n",
    "<div class=\"center\">\n",
    "<img src=\"img.png\" class=\"dark_img\" alt=\"\"></div>\n",
    "<p>How many such routes are there through a $20 \\times 20$ grid?</p>"
   ]
  },
  {
   "cell_type": "code",
   "execution_count": null,
   "metadata": {},
   "outputs": [],
   "source": []
  },
  {
   "cell_type": "markdown",
   "metadata": {},
   "source": [
    "<p>This problem does not require a strict computational solution, though one could be formulated using ideas of random walks or graph theory. For this solution, a style of inductive proof will be employed.</p>\n",
    "<p>Starting with a $1 \\times 1$ grid, there are only two possible paths to follow to reach the bottom right corner from the top left corner. Note that for each path $n$, there are $2n$ moves to make to reach the desired location on the grid; as such, for a $1 \\times 1$ grid, two moves can reach the desired location. Expanding the grid to a $2 \\times 1$ (or symmetrically a $1 \\times 2$) grid, there is only one additional path to follow from the $1 \\times 1$ case, thus providing a total of 3 paths. Expanding further, it is provided that a $2 \\times 2$ grid gives a total of 6 possible paths.</p>\n",
    "<p>For the more astute of mathematical observers the punchline may be clear, but for the sake of clarity, it can be seen that a $1 \\times 3$ (or $3 \\times 1$) grid provides a total of 4 paths to follow, and a $1 \\times 4$ (or $4 \\times 1$) grid provides a total of 5 paths to follow. It can be safe to assume now that for any $1 \\times n$, (or $n \\times 1$) grid, there exist a total of $n + 1$ paths. Likewise, expanding to a $2 \\times 3$ (or $3 \\times 2$) grid can produce a total of 10 possible paths.</p>\n",
    "<p>If for each square in the grid is added to the total grid, the geometry of the grid can represented as Pascal's triangle of binomial coefficients-</p>\n",
    "\n",
    "\\begin{pmatrix}\n",
    "2 & 3 & 4 & *\\\\\n",
    "3 & 6 & 10 & *\\\\\n",
    "4 & 10 & 20 & *\\\\\n",
    "* & * & * & *\n",
    "\\end{pmatrix}\n",
    "\n",
    "<p>The pattern for a size $n$ grid is now trivial. Verifying with smaller grid sizes-</p>\n",
    "\\begin{equation}\n",
    "\\binom{2n}{n} = \\binom{\\text{2n possible moves}}{\\text{n gridsteps}} = \\frac{(2n)!}{(n!)^2}\n",
    "\\end{equation}\n",
    "\n",
    "\\begin{equation}\n",
    "\\binom{4}{2} = \\frac{(4)!}{(2!)^2} = 6 \n",
    "\\end{equation}\n",
    "\n",
    "Now, extrapolating the binomial coefficient formula for a grid size of 20,\n",
    "\\begin{equation}\n",
    "\\binom{2n}{n} \\to \\binom{40}{20} = \\frac{(40)!}{(20!)^2} = 137846528820\n",
    "\\end{equation}"
   ]
  },
  {
   "cell_type": "code",
   "execution_count": null,
   "metadata": {},
   "outputs": [],
   "source": []
  }
 ],
 "metadata": {
  "kernelspec": {
   "display_name": "Python 3",
   "language": "python",
   "name": "python3"
  },
  "language_info": {
   "codemirror_mode": {
    "name": "ipython",
    "version": 3
   },
   "file_extension": ".py",
   "mimetype": "text/x-python",
   "name": "python",
   "nbconvert_exporter": "python",
   "pygments_lexer": "ipython3",
   "version": "3.7.3"
  }
 },
 "nbformat": 4,
 "nbformat_minor": 4
}
