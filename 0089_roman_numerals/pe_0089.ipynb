{
 "cells": [
  {
   "cell_type": "code",
   "execution_count": 1,
   "metadata": {},
   "outputs": [
    {
     "data": {
      "text/plain": [
       "'\\nFind the number of characters saved by writing each of these [.txt] in their minimal form.\\n'"
      ]
     },
     "execution_count": 1,
     "metadata": {},
     "output_type": "execute_result"
    }
   ],
   "source": [
    "'''\n",
    "Find the number of characters saved by writing each of these [.txt] in their minimal form.\n",
    "'''"
   ]
  },
  {
   "cell_type": "code",
   "execution_count": null,
   "metadata": {},
   "outputs": [],
   "source": []
  },
  {
   "cell_type": "code",
   "execution_count": 7,
   "metadata": {},
   "outputs": [
    {
     "name": "stdout",
     "output_type": "stream",
     "text": [
      "num: 1666\n"
     ]
    }
   ],
   "source": [
    "# LEETCODE 13\n",
    "\n",
    "'''\n",
    "- process string from back to front\n",
    "- if the next char is smaller than previous, then\n",
    "subtract that amount from the tally, else add it to tally\n",
    "\n",
    "- NOTE:\n",
    "s = s.replace(\"IV\", \"IIII\").replace(\"IX\", \"VIIII\")\n",
    "s = s.replace(\"XL\", \"XXXX\").replace(\"XC\", \"LXXXX\")\n",
    "s = s.replace(\"CD\", \"CCCC\").replace(\"CM\", \"DCCCC\")\n",
    "\n",
    "- this solution uses O(N) time and O(1) space\n",
    "'''\n",
    "\n",
    "\n",
    "def romanToInt(s: str) -> int:\n",
    "    # define a map to reference char to int\n",
    "    num_dict = {\"I\": 1, \"V\": 5, \"X\": 10, \"L\": 50, \"C\": 100, \"D\": 500, \"M\": 1000}\n",
    "\n",
    "    # keep track of the current int to return\n",
    "    tally = 0\n",
    "    max_curr = \"I\"\n",
    "\n",
    "    # loop through reversed array\n",
    "    for char in range(len(s) - 1, -1, -1):\n",
    "        if(num_dict[s[char]] < num_dict[max_curr]):\n",
    "            tally -= num_dict[s[char]]\n",
    "        else:\n",
    "            tally += num_dict[s[char]]\n",
    "            max_curr = s[char]\n",
    "    return tally\n",
    "\n",
    "if __name__ == \"__main__\":\n",
    "    res = romanToInt(\"MDCLXVI\")\n",
    "    print(\"num: {}\".format(res))"
   ]
  },
  {
   "cell_type": "code",
   "execution_count": null,
   "metadata": {},
   "outputs": [],
   "source": []
  },
  {
   "cell_type": "code",
   "execution_count": 6,
   "metadata": {},
   "outputs": [
    {
     "name": "stdout",
     "output_type": "stream",
     "text": [
      "str: MDCLXVI\n"
     ]
    }
   ],
   "source": [
    "# LEETCODE 12\n",
    "'''\n",
    "- NOTE:\n",
    "s = s.replace(\"IV\", \"IIII\").replace(\"IX\", \"VIIII\")\n",
    "s = s.replace(\"XL\", \"XXXX\").replace(\"XC\", \"LXXXX\")\n",
    "s = s.replace(\"CD\", \"CCCC\").replace(\"CM\", \"DCCCC\")\n",
    "'''\n",
    "\n",
    "class Solution:\n",
    "    # define a map to reference char to int\n",
    "    NUM_DICT = {\"I\": 1, \"V\": 5, \"X\": 10, \"L\": 50, \"C\": 100, \"D\": 500, \"M\": 1000}\n",
    "\n",
    "    def intToRoman(self, num: int) -> str:\n",
    "        # define a return string to append chars to\n",
    "        roman_str = ''\n",
    "\n",
    "        # create a brute force tally of the chars by subtracting from given int\n",
    "        # 49 => 'XXXXVIIII'\n",
    "        while num > 0:\n",
    "            if num - Solution.NUM_DICT['M'] >= 0:\n",
    "                roman_str += 'M'\n",
    "                num -= Solution.NUM_DICT['M']\n",
    "            elif num - Solution.NUM_DICT['D'] >= 0:\n",
    "                roman_str += 'D'\n",
    "                num -= Solution.NUM_DICT['D']\n",
    "            elif num - Solution.NUM_DICT['C'] >= 0:\n",
    "                roman_str += 'C'\n",
    "                num -= Solution.NUM_DICT['C']\n",
    "            elif num - Solution.NUM_DICT['L'] >= 0:\n",
    "                roman_str += 'L'\n",
    "                num -= Solution.NUM_DICT['L']\n",
    "            elif num - Solution.NUM_DICT['X'] >= 0:\n",
    "                roman_str += 'X'\n",
    "                num -= Solution.NUM_DICT['X']\n",
    "            elif num - Solution.NUM_DICT['V'] >= 0:\n",
    "                roman_str += 'V'\n",
    "                num -= Solution.NUM_DICT['V']\n",
    "            else:\n",
    "                roman_str += 'I'\n",
    "                num -= Solution.NUM_DICT['I']\n",
    "        return self.minimize(roman_str)\n",
    "    \n",
    "    def minimize(self, s: str) -> str:\n",
    "        '''\n",
    "        - convert brute force string into minimized string\n",
    "        - 49 => 'XXXXVIIII' => 'XLIX'\n",
    "\n",
    "        - recursively inspect patterns in ascending value order\n",
    "        '''\n",
    "        # ones\n",
    "        if \"IIII\" in s:\n",
    "            s = self.minimize(s.replace(\"IIII\", \"IV\"))\n",
    "        if \"VIV\" in s:\n",
    "            s = self.minimize(s.replace(\"VIV\", \"IX\"))\n",
    "        # tens\n",
    "        if \"XXXX\" in s:\n",
    "            s = self.minimize(s.replace(\"XXXX\", \"XL\"))\n",
    "        if \"LXL\" in s:\n",
    "            s = self.minimize(s.replace(\"LXL\", \"XC\"))\n",
    "        # hundreds\n",
    "        if \"CCCC\" in s:\n",
    "            s = self.minimize(s.replace(\"CCCC\", \"CD\"))\n",
    "        if \"DCD\" in s:\n",
    "            s = self.minimize(s.replace(\"DCD\", \"CM\"))\n",
    "        return s\n",
    "\n",
    "if __name__ == \"__main__\":\n",
    "    soln = Solution()\n",
    "    res = soln.intToRoman(1666)\n",
    "    print(\"str: {}\".format(res))"
   ]
  },
  {
   "cell_type": "code",
   "execution_count": null,
   "metadata": {},
   "outputs": [],
   "source": []
  },
  {
   "cell_type": "code",
   "execution_count": null,
   "metadata": {},
   "outputs": [],
   "source": []
  },
  {
   "cell_type": "code",
   "execution_count": 8,
   "metadata": {},
   "outputs": [
    {
     "name": "stdout",
     "output_type": "stream",
     "text": [
      "chars saved: 743\n"
     ]
    }
   ],
   "source": [
    "# PROJECT EULER 0089:\n",
    "\n",
    "def minimize(s: str) -> str:\n",
    "    '''\n",
    "    - convert given/brute force string into minimized string\n",
    "    - 49 => 'XXXXVIIII' => 'XLIX'\n",
    "\n",
    "    - recursively inspect patterns in ascending value order\n",
    "    '''\n",
    "    # ones\n",
    "    if \"IIII\" in s:\n",
    "        s = minimize(s.replace(\"IIII\", \"IV\"))\n",
    "    if \"VIV\" in s:\n",
    "        s = minimize(s.replace(\"VIV\", \"IX\"))\n",
    "    # tens\n",
    "    if \"XXXX\" in s:\n",
    "        s = minimize(s.replace(\"XXXX\", \"XL\"))\n",
    "    if \"LXL\" in s:\n",
    "        s = minimize(s.replace(\"LXL\", \"XC\"))\n",
    "    # hundreds\n",
    "    if \"CCCC\" in s:\n",
    "        s = minimize(s.replace(\"CCCC\", \"CD\"))\n",
    "    if \"DCD\" in s:\n",
    "        s = minimize(s.replace(\"DCD\", \"CM\"))\n",
    "    return s\n",
    "\n",
    "if __name__ == \"__main__\":\n",
    "    # keep track of how many chars are saved with each minimization\n",
    "    tally = 0\n",
    "\n",
    "    # read file data and define a array of strings\n",
    "    with open(\"0089_roman.txt\") as file:\n",
    "        txt = file.read()\n",
    "        txt_arr = txt.split(\"\\n\")\n",
    "    file.close()\n",
    "    \n",
    "    # loop through txt arr and minimize\n",
    "    # compare old with new strings\n",
    "    for s in txt_arr:\n",
    "        tally += len(s) - len(minimize(s))\n",
    "    \n",
    "    print(\"chars saved: {}\".format(tally))"
   ]
  },
  {
   "cell_type": "code",
   "execution_count": null,
   "metadata": {},
   "outputs": [],
   "source": []
  },
  {
   "cell_type": "code",
   "execution_count": null,
   "metadata": {},
   "outputs": [],
   "source": []
  },
  {
   "cell_type": "code",
   "execution_count": null,
   "metadata": {},
   "outputs": [],
   "source": []
  }
 ],
 "metadata": {
  "kernelspec": {
   "display_name": "Python 3",
   "language": "python",
   "name": "python3"
  },
  "language_info": {
   "codemirror_mode": {
    "name": "ipython",
    "version": 3
   },
   "file_extension": ".py",
   "mimetype": "text/x-python",
   "name": "python",
   "nbconvert_exporter": "python",
   "pygments_lexer": "ipython3",
   "version": "3.7.3"
  }
 },
 "nbformat": 4,
 "nbformat_minor": 4
}
