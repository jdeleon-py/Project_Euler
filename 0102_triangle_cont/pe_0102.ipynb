{
 "cells": [
  {
   "cell_type": "markdown",
   "metadata": {},
   "source": [
    "<p>Three distinct points are plotted at random on a Cartesian plane, for which $-1000 \\le x, y \\le 1000$, such that a triangle is formed.</p>\n",
    "<p>Consider the following two triangles:</p>\n",
    "\\begin{gather}\n",
    "A(-340,495), B(-153,-910), C(835,-947)\\\\\n",
    "X(-175,41), Y(-421,-714), Z(574,-645)\n",
    "\\end{gather}\n",
    "<p>It can be verified that triangle $ABC$ contains the origin, whereas triangle $XYZ$ does not.</p>\n",
    "<p>Using \"triangles.txt\" (right click and 'Save Link/Target As...'), a 27K text file containing the co-ordinates of one thousand \"random\" triangles, find the number of triangles for which the interior contains the origin.</p>\n",
    "<p class=\"smaller\">NOTE: The first two examples in the file represent the triangles in the example given above.</p>"
   ]
  },
  {
   "cell_type": "code",
   "execution_count": null,
   "metadata": {},
   "outputs": [],
   "source": []
  },
  {
   "cell_type": "code",
   "execution_count": 1,
   "metadata": {},
   "outputs": [],
   "source": [
    "# read file data\n",
    "\n",
    "FILENAME: str = \"0102_triangles.txt\"\n",
    "\n",
    "data_arr: list = []\n",
    "with open(FILENAME, \"r\") as file:\n",
    "    data: str = file.read()\n",
    "    data_arr = data.split(\"\\n\")\n",
    "file.close()"
   ]
  },
  {
   "cell_type": "code",
   "execution_count": 2,
   "metadata": {},
   "outputs": [],
   "source": [
    "# map str in each line of arr to (ax, ay, bx, by, cx, cy)\n",
    "# where each (_x, _y) is of type int\n",
    "\n",
    "\n",
    "for line in data_arr:\n",
    "    ax, ay, bx, by, cx, cy = map(int, line.split(\",\"))\n",
    "    #print(\"{0}, {1}, {2}, {3}, {4}, {5}\".format(ax, ay, bx, by, cx, cy))"
   ]
  },
  {
   "cell_type": "code",
   "execution_count": null,
   "metadata": {},
   "outputs": [],
   "source": []
  },
  {
   "cell_type": "markdown",
   "metadata": {},
   "source": [
    "##### Method #1: Cross Product Signs\n",
    "\n",
    "<p> (HYPOTHETICALLY) </p>\n",
    "\n",
    "<p>The points $AB$, $BC$, $CA$ of triangle $ABC$ are line vectors. Adding point P and including the new line vectors $AP$, $BP$, $CP$ can allow for a cross product calculation of a 3D vector $[x1, x2, 0] \\times [y1, y2, 0]$.</p>\n",
    "\n",
    "<p>If P lies inside the triangle defined $ABC$, then the signs produced by the calculation of $AB \\times AP$, $BC \\times BP$, and $CA \\times CP$ must be unanimous (all pos or all neg).</p>\n",
    "<p>I would like to test this theory later, as it may provide some insight to the blending of linear algebra and computer graphics.</p>"
   ]
  },
  {
   "cell_type": "code",
   "execution_count": null,
   "metadata": {},
   "outputs": [],
   "source": []
  },
  {
   "cell_type": "markdown",
   "metadata": {},
   "source": [
    "##### Method #2: Equal Combined Areas\n",
    "\n",
    "<p> Assuming that point $P$ lies inside of a triangle $ABC$, then the combined areas of $ABP, BPC, APC$ must equal the area of $ABC$.</p>\n",
    "\n",
    "<p> Note that the area of a triangle given three vertex coordinates $(x_i, y_i)$ is as follows-</p>\n",
    "\n",
    "\\begin{equation}\n",
    "A = \\frac{1}{2} \\left[ x_1(y_2 - y_3) + x_2(y_3 - y_1) + x_3(y_1 - y_2)\\right]\n",
    "\\end{equation}\n",
    "\n",
    "<p> Note that A is the determinant of the basis made by vectors $[x1, x2, x3]$, $[y1, y2, y3]$, and $[1, 1, 1]$. </p>"
   ]
  },
  {
   "cell_type": "code",
   "execution_count": 3,
   "metadata": {},
   "outputs": [
    {
     "name": "stdout",
     "output_type": "stream",
     "text": [
      "Area of ABC: 690610.5\n",
      "\n",
      "Area of PAB: 192567.5\n",
      "Area of PBC: 452370.5\n",
      "Area of APC: 45672.5\n",
      "\n",
      "A(PAB) + A(PBC) + A(PAC) = 690610.5\n"
     ]
    }
   ],
   "source": [
    "# classify a triangle object to encapsulate coordinate data\n",
    "\n",
    "class Triangle:\n",
    "    '''\n",
    "    - this object will calculate the parameters of a triangle (area)\n",
    "    based on three vertex corrdinates provided as an input.\n",
    "    \n",
    "    - vertex coordinates are input as follows for triangle ABC\n",
    "    -- ax, ay, bx, by, cx, cy\n",
    "    \n",
    "    - TODO: expand this object to find more parameters (perim, line vectors, etc..)\n",
    "    -- useful for computer graphics library implementation\n",
    "    '''\n",
    "    def __init__(self, ax: int, ay: int, bx: int, by: int, cx: int, cy: int) -> None:\n",
    "        self.a_x = ax\n",
    "        self.a_y = ay\n",
    "        self.b_x = bx\n",
    "        self.b_y = by\n",
    "        self.c_x = cx\n",
    "        self.c_y = cy\n",
    "    \n",
    "    def get_area(self) -> float:\n",
    "        '''\n",
    "        - calculates the are of the triangle given its vertex coordinates\n",
    "        - may return a negative area based on coordinates, so ensure\n",
    "        sign by returning the absolute value\n",
    "        '''\n",
    "        term1: int = self.a_x * (self.b_y - self.c_y)\n",
    "        term2: int = self.b_x * (self.c_y - self.a_y)\n",
    "        term3: int = self.c_x * (self.a_y - self.b_y)\n",
    "        return abs(0.5 * (term1 + term2 + term3))\n",
    "\n",
    "\n",
    "# PE102: test if first example triangle and origin produce a correct output\n",
    "if __name__ == \"__main__\":\n",
    "    ABC: object = Triangle(-340, 495, -153, -910, 835, -947)\n",
    "    \n",
    "    PAB: object = Triangle(0, 0, -340, 495, -153, -910)\n",
    "    PBC: object = Triangle(0, 0, -153, -910, 835, -947)\n",
    "    PAC: object = Triangle(0, 0, -340, 495, 835, -947)\n",
    "    \n",
    "    #area_abc: float = ABC.get_area()\n",
    "    #area_pab: float = PAB.get_area()\n",
    "    #area_pbc: float = PBC.get_area()\n",
    "    #area.apc: float = APC.get_area()\n",
    "    \n",
    "    print(\"Area of ABC: {}\\n\".format(ABC.get_area()))\n",
    "    \n",
    "    print(\"Area of PAB: {}\".format(PAB.get_area()))\n",
    "    print(\"Area of PBC: {}\".format(PBC.get_area()))\n",
    "    print(\"Area of APC: {}\\n\".format(PAC.get_area()))\n",
    "    print(\"A(PAB) + A(PBC) + A(PAC) = {}\".format(PAB.get_area() + PBC.get_area() + PAC.get_area()))"
   ]
  },
  {
   "cell_type": "code",
   "execution_count": null,
   "metadata": {},
   "outputs": [],
   "source": []
  },
  {
   "cell_type": "code",
   "execution_count": 4,
   "metadata": {},
   "outputs": [
    {
     "name": "stdout",
     "output_type": "stream",
     "text": [
      "How many triangles have the origin P = (0, 0) contained? 228\n"
     ]
    }
   ],
   "source": [
    "# PE102 MAIN PROGRAM\n",
    "\n",
    "FILENAME: str = \"0102_triangles.txt\"\n",
    "\n",
    "# classify a triangle object to encapsulate coordinate data\n",
    "\n",
    "class Triangle:\n",
    "    '''\n",
    "    - this object will calculate the parameters of a triangle (area)\n",
    "    based on three vertex corrdinates provided as an input.\n",
    "    \n",
    "    - vertex coordinates are input as follows for triangle ABC\n",
    "    -- ax, ay, bx, by, cx, cy\n",
    "    \n",
    "    - TODO: expand this object to find more parameters (perim, line vectors, etc..)\n",
    "    -- useful for computer graphics library implementation\n",
    "    -- is this always the case (mathematically) for points P inside and outside of \n",
    "    trangle ABC to create equal sub-area parts?\n",
    "    '''\n",
    "    def __init__(self, ax: int, ay: int, bx: int, by: int, cx: int, cy: int) -> None:\n",
    "        self.a_x = ax\n",
    "        self.a_y = ay\n",
    "        self.b_x = bx\n",
    "        self.b_y = by\n",
    "        self.c_x = cx\n",
    "        self.c_y = cy\n",
    "    \n",
    "    def get_area(self) -> float:\n",
    "        '''\n",
    "        - calculates the are of the triangle given its vertex coordinates\n",
    "        - may return a negative area based on coordinates, so ensure\n",
    "        sign by returning the absolute value\n",
    "        '''\n",
    "        term1: int = self.a_x * (self.b_y - self.c_y)\n",
    "        term2: int = self.b_x * (self.c_y - self.a_y)\n",
    "        term3: int = self.c_x * (self.a_y - self.b_y)\n",
    "        return abs(0.5 * (term1 + term2 + term3))\n",
    "    \n",
    "\n",
    "if __name__ == \"__main__\":\n",
    "    # read file data\n",
    "    data_arr: list = []\n",
    "    with open(FILENAME, \"r\") as file:\n",
    "        data: str = file.read()\n",
    "        data_arr = data.split(\"\\n\")\n",
    "    file.close()\n",
    "\n",
    "    # program counter (inc. if origin is contained in triangle)\n",
    "    counter: int = 0\n",
    "\n",
    "    # map str in each line of arr to (ax, ay, bx, by, cx, cy)\n",
    "    # where each (_x, _y) is of type int\n",
    "    for line in data_arr:\n",
    "        ax, ay, bx, by, cx, cy = map(int, line.split(\",\"))\n",
    "        \n",
    "        ABC: object = Triangle(ax, ay, bx, by, cx, cy)\n",
    "    \n",
    "        PAB: object = Triangle(0, 0, ax, ay, bx, by)\n",
    "        PBC: object = Triangle(0, 0, bx, by, cx, cy)\n",
    "        PAC: object = Triangle(0, 0, ax, ay, cx, cy)\n",
    "    \n",
    "        if PAB.get_area() + PBC.get_area() + PAC.get_area() == ABC.get_area():\n",
    "            counter += 1\n",
    "    \n",
    "    print(\"How many triangles have the origin P = (0, 0) contained? {}\".format(counter))"
   ]
  },
  {
   "cell_type": "code",
   "execution_count": null,
   "metadata": {},
   "outputs": [],
   "source": []
  }
 ],
 "metadata": {
  "kernelspec": {
   "display_name": "Python 3",
   "language": "python",
   "name": "python3"
  },
  "language_info": {
   "codemirror_mode": {
    "name": "ipython",
    "version": 3
   },
   "file_extension": ".py",
   "mimetype": "text/x-python",
   "name": "python",
   "nbconvert_exporter": "python",
   "pygments_lexer": "ipython3",
   "version": "3.7.3"
  }
 },
 "nbformat": 4,
 "nbformat_minor": 4
}
