{
 "cells": [
  {
   "cell_type": "markdown",
   "metadata": {},
   "source": [
    "<p>Some positive integers $n$ have the property that the sum $[n + \\operatorname{reverse}(n)]$ consists entirely of odd (decimal) digits. For instance, $36 + 63 = 99$ and $409 + 904 = 1313$. We will call such numbers <dfn>reversible</dfn>; so $36$, $63$, $409$, and $904$ are reversible. Leading zeroes are not allowed in either $n$ or $\\operatorname{reverse}(n)$.</p>\n",
    "\n",
    "<p>There are $120$ reversible numbers below one-thousand.</p>\n",
    "\n",
    "<p>How many reversible numbers are there below one-billion ($10^9$)?</p>"
   ]
  },
  {
   "cell_type": "code",
   "execution_count": null,
   "metadata": {},
   "outputs": [],
   "source": []
  },
  {
   "cell_type": "code",
   "execution_count": 4,
   "metadata": {},
   "outputs": [
    {
     "name": "stdout",
     "output_type": "stream",
     "text": [
      "n1: 63, rev(n1): 36\n",
      "n2: 123456789, rev(n2): 987654321\n"
     ]
    }
   ],
   "source": [
    "# function for returning a number n with digits reversed\n",
    "\n",
    "get_rev: int = lambda n: int(\"\".join([i for i in str(n)][::-1]))\n",
    "    \n",
    "if __name__ == \"__main__\":\n",
    "    n1, n2 = 63, 123456789\n",
    "    print(\"n1: {0}, rev(n1): {1}\".format(n1, get_rev(n1)))\n",
    "    print(\"n2: {0}, rev(n2): {1}\".format(n2, get_rev(n2)))"
   ]
  },
  {
   "cell_type": "code",
   "execution_count": null,
   "metadata": {},
   "outputs": [],
   "source": []
  },
  {
   "cell_type": "code",
   "execution_count": 22,
   "metadata": {},
   "outputs": [
    {
     "name": "stdout",
     "output_type": "stream",
     "text": [
      "True\n",
      "True\n"
     ]
    }
   ],
   "source": [
    "'''\n",
    "- things to consider when measuring reversible numbers:\n",
    "\n",
    "- a reversible number is a number in which an integer n + rev(n) \n",
    "produces a number with all odd digits\n",
    "\n",
    "- all digits in the reversible number must be odd\n",
    "\n",
    "- leading zeroes are not allowed for n or rev(n)\n",
    "'''\n",
    "\n",
    "def is_reversible(n: int) -> bool:\n",
    "    rev_num: int = n + get_rev(n)\n",
    "    rev_arr: list = [int(i) for i in str(rev_num)]\n",
    "    all_odd: bool = True\n",
    "    for digit in rev_arr:\n",
    "        if digit % 2 == 0:\n",
    "            return False\n",
    "    return True\n",
    "        \n",
    "if __name__ == \"__main__\":\n",
    "    print(is_reversible(36))\n",
    "    print(is_reversible(409))"
   ]
  },
  {
   "cell_type": "code",
   "execution_count": null,
   "metadata": {},
   "outputs": [],
   "source": []
  },
  {
   "cell_type": "code",
   "execution_count": 57,
   "metadata": {},
   "outputs": [
    {
     "name": "stdout",
     "output_type": "stream",
     "text": [
      "reversible count: 720\n"
     ]
    }
   ],
   "source": [
    "# Now, to scan through all ints within a range\n",
    "\n",
    "if __name__ == \"__main__\":\n",
    "    acc: int = 0\n",
    "    for i in range(1, 10000):\n",
    "        #- add extra condition for numbers that end in zero, since no leading \n",
    "        # zeroes are allowed for its reversed counterpart\n",
    "        if is_reversible(i) and (i % 10 != 0):\n",
    "            acc += 1\n",
    "        # if i % 5000 == 0: print(\"{0}: {1}\".format(i, acc))\n",
    "    print(\"reversible count: {}\".format(acc))"
   ]
  },
  {
   "cell_type": "code",
   "execution_count": 46,
   "metadata": {},
   "outputs": [],
   "source": [
    "x = [2, 3, 4, 5, 6, 7] # order of magnitude (10^(x_i))\n",
    "y = [20, 120, 720, 720, 18720, 68720] # reversible number count\n",
    "\n",
    "# there might be a better way to optimize this"
   ]
  },
  {
   "cell_type": "code",
   "execution_count": null,
   "metadata": {},
   "outputs": [],
   "source": []
  },
  {
   "cell_type": "code",
   "execution_count": null,
   "metadata": {},
   "outputs": [],
   "source": []
  },
  {
   "cell_type": "code",
   "execution_count": null,
   "metadata": {},
   "outputs": [],
   "source": []
  },
  {
   "cell_type": "code",
   "execution_count": null,
   "metadata": {},
   "outputs": [],
   "source": []
  }
 ],
 "metadata": {
  "kernelspec": {
   "display_name": "Python 3",
   "language": "python",
   "name": "python3"
  },
  "language_info": {
   "codemirror_mode": {
    "name": "ipython",
    "version": 3
   },
   "file_extension": ".py",
   "mimetype": "text/x-python",
   "name": "python",
   "nbconvert_exporter": "python",
   "pygments_lexer": "ipython3",
   "version": "3.7.3"
  }
 },
 "nbformat": 4,
 "nbformat_minor": 4
}
