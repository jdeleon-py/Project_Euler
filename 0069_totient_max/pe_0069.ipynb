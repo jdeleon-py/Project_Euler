{
 "cells": [
  {
   "cell_type": "markdown",
   "metadata": {},
   "source": [
    "<p>Euler's totient function, $\\phi(n)$ [sometimes called the phi function], is defined as the number of positive integers not exceeding $n$ which are relatively prime to $n$. For example, as $1$, $2$, $4$, $5$, $7$, and $8$, are all less than or equal to nine and relatively prime to nine, $\\phi(9)=6$.</p>\n",
    "<div class=\"center\">\n",
    "<table class=\"grid center\"><tr><td><b>$n$</b></td>\n",
    "<td><b>Relatively Prime</b></td>\n",
    "<td><b>$\\phi(n)$</b></td>\n",
    "<td><b>$n/\\phi(n)$</b></td>\n",
    "</tr><tr><td>2</td>\n",
    "<td>1</td>\n",
    "<td>1</td>\n",
    "<td>2</td>\n",
    "</tr><tr><td>3</td>\n",
    "<td>1,2</td>\n",
    "<td>2</td>\n",
    "<td>1.5</td>\n",
    "</tr><tr><td>4</td>\n",
    "<td>1,3</td>\n",
    "<td>2</td>\n",
    "<td>2</td>\n",
    "</tr><tr><td>5</td>\n",
    "<td>1,2,3,4</td>\n",
    "<td>4</td>\n",
    "<td>1.25</td>\n",
    "</tr><tr><td>6</td>\n",
    "<td>1,5</td>\n",
    "<td>2</td>\n",
    "<td>3</td>\n",
    "</tr><tr><td>7</td>\n",
    "<td>1,2,3,4,5,6</td>\n",
    "<td>6</td>\n",
    "<td>1.1666...</td>\n",
    "</tr><tr><td>8</td>\n",
    "<td>1,3,5,7</td>\n",
    "<td>4</td>\n",
    "<td>2</td>\n",
    "</tr><tr><td>9</td>\n",
    "<td>1,2,4,5,7,8</td>\n",
    "<td>6</td>\n",
    "<td>1.5</td>\n",
    "</tr><tr><td>10</td>\n",
    "<td>1,3,7,9</td>\n",
    "<td>4</td>\n",
    "<td>2.5</td>\n",
    "</tr></table></div>\n",
    "<p>It can be seen that $n = 6$ produces a maximum $n/\\phi(n)$ for $n\\leq 10$.</p>\n",
    "<p>Find the value of $n\\leq 1\\,000\\,000$ for which $n/\\phi(n)$ is a maximum.</p>"
   ]
  },
  {
   "cell_type": "code",
   "execution_count": 1,
   "metadata": {},
   "outputs": [
    {
     "name": "stdout",
     "output_type": "stream",
     "text": [
      "2\n"
     ]
    }
   ],
   "source": [
    "'''\n",
    "Resources:\n",
    "- https://en.wikipedia.org/wiki/Coprime_integers\n",
    "- https://en.wikipedia.org/wiki/Euler%27s_totient_function\n",
    "- https://en.wikipedia.org/wiki/Euclidean_algorithm\n",
    "'''\n",
    "\n",
    "# GCD Algorithm\n",
    "#def gcd(a: int, b: int) -> int:\n",
    "#    return a if b == 0 else gcd(b, a % b)\n",
    "\n",
    "gcd: int = lambda a, b: a if b == 0 else gcd(b, a % b)\n",
    "\n",
    "if __name__ == \"__main__\":\n",
    "    print(\"{}\".format(gcd(2, 4)))"
   ]
  },
  {
   "cell_type": "code",
   "execution_count": 2,
   "metadata": {
    "scrolled": true
   },
   "outputs": [
    {
     "name": "stdout",
     "output_type": "stream",
     "text": [
      "\n",
      "[n, max(n / phi(n))]: [210, 4.375]\n"
     ]
    }
   ],
   "source": [
    "# MAIN PROGRAM\n",
    "\n",
    "'''\n",
    "TODO:\n",
    "- will give correct result, but algorithm is too slow for large N\n",
    "\n",
    "- using a 2D lookup table: gcd(a, b) -> {x:{...}, ..., a:{x: c, b: n}, ...}\n",
    "does not speed up the process either, as shown below. There are too many redundant\n",
    "entries for consecutive and adjacent n values. A more mathematical and ultimately simpler\n",
    "approach will be used next to solve the problem.\n",
    "'''\n",
    "\n",
    "MAX_N: int = 2000\n",
    "\n",
    "#gcd: int = lambda a, b: a if b == 0 else gcd(b, a % b)\n",
    "gcd_cache: dict = {}\n",
    "\n",
    "def gcd(a: int, b: int) -> int:\n",
    "    '''\n",
    "    - # gcd: int = lambda a, b: a if b == 0 else gcd(b, a % b)\n",
    "    - # (recursive) Euclidean algorithm to compute GCD\n",
    "    \n",
    "    # Ex. n = 8, thus coprimes of 8 and [1,8] are: 1, 3, 5, 7\n",
    "\n",
    "    # table[a][b] -> gcd(a, b)\n",
    "    # table can list all coprimes OR show the count of coprimes\n",
    "    # note that gcd(a, b) = gcd(b, a)\n",
    "\n",
    "    # dic: dict = {\"2\": {\"1\": 1, \"2\": 2, \"3\": 1, \"14\": 2}, \"3\": {\"1\": 1, \"2\": 1, \"23\": 1}, ...}\n",
    "\n",
    "    - \"2\": {\"3\": x} == \"3\": {\"2\": x} so when checking table, let [i, j] be [min(a, b), max(a, b)]\n",
    "    '''\n",
    "    # check lookup table\n",
    "    min_val: int = min(a, b)\n",
    "    max_val: int = max(a, b)\n",
    "    if min_val in gcd_cache and max_val in gcd_cache[min_val]:\n",
    "        return gcd_cache[min_val][max_val]\n",
    "    \n",
    "    # compute gcd\n",
    "    ret_val: int = a if b == 0 else gcd(b, a % b)\n",
    "    \n",
    "    # cache the new value and return\n",
    "    if min_val not in gcd_cache:\n",
    "        gcd_cache.update({min_val: {}})\n",
    "    if max_val not in gcd_cache[min_val]:\n",
    "        gcd_cache[min_val].update({min_val: {max_val: ret_val}})\n",
    "    return ret_val\n",
    "\n",
    "if __name__ == \"__main__\":\n",
    "    max_n: int = 0\n",
    "    ret_frac: float = 0.0\n",
    "    for i in range(2, MAX_N):\n",
    "        coprime_count: int = 0\n",
    "        for j in range(1, i + 1):\n",
    "            if gcd(i, j) == 1:\n",
    "                coprime_count += 1\n",
    "        #print(\"n = {0}, phi(n) = {1}, n / phi(n) = {2}\".format(i, coprime_count, float(i / coprime_count)))\n",
    "\n",
    "        #ret_frac = max(ret_frac, float(i / coprime_count))\n",
    "        if float(i / coprime_count) > ret_frac:\n",
    "            ret_frac = float(i / coprime_count)\n",
    "            max_n = i\n",
    "    print(\"\\n[n, max(n / phi(n))]: [{0}, {1}]\".format(max_n, ret_frac))"
   ]
  },
  {
   "cell_type": "code",
   "execution_count": null,
   "metadata": {},
   "outputs": [],
   "source": []
  },
  {
   "cell_type": "code",
   "execution_count": null,
   "metadata": {},
   "outputs": [],
   "source": []
  },
  {
   "cell_type": "code",
   "execution_count": null,
   "metadata": {},
   "outputs": [],
   "source": []
  },
  {
   "cell_type": "code",
   "execution_count": 3,
   "metadata": {},
   "outputs": [
    {
     "name": "stdout",
     "output_type": "stream",
     "text": [
      "[2, 3, 5, 7, 11]\n",
      "[2, 2, 3, 3, 5, 5]\n"
     ]
    }
   ],
   "source": [
    "# NEW APPROACH\n",
    "\n",
    "'''\n",
    "- note, this approach requires an access to prime numbers.\n",
    "The calculation of n/phi(n) produces a higher ratio when phi(n) is minimal,\n",
    "indicating that prime numbers are likely to have more coprimes thus reducing\n",
    "the ratio.\n",
    "\n",
    "The Totient Function is based on the distribution of distinct primes that divide n\n",
    "'''\n",
    "\n",
    "def prime_factors(num: int) -> list:\n",
    "    '''\n",
    "    - generates the list of prime factors of a given \n",
    "    positive integer num\n",
    "    '''\n",
    "    prime_factors: list = []\n",
    "    for term in range(2, num):\n",
    "        while num % term == 0:\n",
    "            if num == 1:\n",
    "                return\n",
    "            num = num / term\n",
    "            prime_factors.append(term)\n",
    "    return prime_factors\n",
    "\n",
    "def generate_primes(num: int) -> list:\n",
    "    '''\n",
    "    - generates a list of the first num prime numbers\n",
    "    '''\n",
    "    primes: list = []\n",
    "    for n in range(2, num + 1):\n",
    "        is_prime: bool = True\n",
    "        for i in range(2, int(n ** 0.5) + 1):\n",
    "            if n % i == 0:\n",
    "                is_prime = False\n",
    "                break\n",
    "        if is_prime == True:\n",
    "            primes.append(n)\n",
    "    return primes\n",
    "\n",
    "# Example usage:\n",
    "if __name__ == \"__main__\":\n",
    "    n = 11\n",
    "    prime_numbers = generate_primes(n)\n",
    "    print(prime_numbers)\n",
    "\n",
    "    print(prime_factors(900))"
   ]
  },
  {
   "cell_type": "code",
   "execution_count": 4,
   "metadata": {},
   "outputs": [
    {
     "name": "stdout",
     "output_type": "stream",
     "text": [
      "n where max(n / phi(n)): 510510\n"
     ]
    }
   ],
   "source": [
    "# MAIN PROGRAM\n",
    "\n",
    "# list of distinct primes whose product does not exceed 1000000\n",
    "LIMIT: int = 1000000\n",
    "PRIMES: list = generate_primes(100)\n",
    "\n",
    "if __name__ == \"__main__\":\n",
    "    '''\n",
    "    - including more distinct primes in n will increase\n",
    "    the desired ratio.\n",
    "    '''\n",
    "    n: int = 1\n",
    "    k: int = 0\n",
    "    while PRIMES[k] * n <= LIMIT:\n",
    "        n *= PRIMES[k]\n",
    "        k += 1\n",
    "    print(\"n where max(n / phi(n)): {}\".format(n))"
   ]
  },
  {
   "cell_type": "code",
   "execution_count": null,
   "metadata": {},
   "outputs": [],
   "source": []
  }
 ],
 "metadata": {
  "kernelspec": {
   "display_name": "data_science_env",
   "language": "python",
   "name": "data_science_env"
  },
  "language_info": {
   "codemirror_mode": {
    "name": "ipython",
    "version": 3
   },
   "file_extension": ".py",
   "mimetype": "text/x-python",
   "name": "python",
   "nbconvert_exporter": "python",
   "pygments_lexer": "ipython3",
   "version": "3.9.7"
  }
 },
 "nbformat": 4,
 "nbformat_minor": 4
}
