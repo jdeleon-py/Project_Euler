{
 "cells": [
  {
   "cell_type": "markdown",
   "metadata": {},
   "source": [
    "<p>The number, $197$, is called a circular prime because all rotations of the digits: $197$, $971$, and $719$, are themselves prime.</p>\n",
    "<p>There are thirteen such primes below $100$: $2, 3, 5, 7, 11, 13, 17, 31, 37, 71, 73, 79$, and $97$.</p>\n",
    "<p>How many circular primes are there below one million?</p>"
   ]
  },
  {
   "cell_type": "code",
   "execution_count": null,
   "metadata": {},
   "outputs": [],
   "source": []
  },
  {
   "cell_type": "code",
   "execution_count": 1,
   "metadata": {},
   "outputs": [
    {
     "name": "stdout",
     "output_type": "stream",
     "text": [
      "True\n"
     ]
    }
   ],
   "source": [
    "'''\n",
    "# for finding whether a number, _a, is a \"permutation\" of another number, _b.\n",
    "is_perm: bool = lambda a, b: set(str(a)) == set(str(b))\n",
    "\n",
    "if __name__ == \"__main__\":\n",
    "    #TODO: this function is incomplete, since is_perm(2) == is_perm(22222) == True\n",
    "    print(\"{}\".format(is_perm(34225, 4253)))\n",
    "'''\n",
    "# completed is_permutation() function\n",
    "\n",
    "from collections import Counter\n",
    "\n",
    "def is_perm(a: int, b: int) -> bool:\n",
    "    c1: object = Counter([ch for ch in str(a)])\n",
    "    c2: object = Counter([ch for ch in str(b)])\n",
    "    return c1 == c2\n",
    "\n",
    "if __name__ == \"__main__\":\n",
    "    print(\"{}\".format(is_perm(435, 543)))"
   ]
  },
  {
   "cell_type": "code",
   "execution_count": 2,
   "metadata": {},
   "outputs": [
    {
     "name": "stdout",
     "output_type": "stream",
     "text": [
      "[2, 3, 5, 7, 11, 13, 17, 19, 23, 29, 31, 37, 41, 43, 47, 53, 59, 61, 67, 71, 73, 79, 83, 89, 97]\n"
     ]
    }
   ],
   "source": [
    "# for generating a range of prime numbers less than or equal to _num\n",
    "def generate_primes(num: int) -> list:\n",
    "    '''\n",
    "    - generates a list of prime numbers less than\n",
    "    or equal to _num\n",
    "    '''\n",
    "    primes: list = []\n",
    "    for n in range(2, num + 1):\n",
    "        is_prime: bool = True\n",
    "        for i in range(2, int(n ** 0.5) + 1):\n",
    "            if n % i == 0:\n",
    "                is_prime = False\n",
    "                break\n",
    "        if is_prime == True:\n",
    "            primes.append(n)\n",
    "    return primes\n",
    "\n",
    "# Example usage:\n",
    "if __name__ == \"__main__\":\n",
    "    print(\"{}\".format(generate_primes(100)))"
   ]
  },
  {
   "cell_type": "code",
   "execution_count": null,
   "metadata": {},
   "outputs": [],
   "source": []
  },
  {
   "cell_type": "code",
   "execution_count": 12,
   "metadata": {},
   "outputs": [
    {
     "name": "stdout",
     "output_type": "stream",
     "text": [
      "[1, 9, 7]\n",
      "[9, 1, 7]\n",
      "[7, 1, 9]\n",
      "[1, 7, 9]\n",
      "[9, 7, 1]\n",
      "[7, 9, 1]\n",
      "None\n"
     ]
    }
   ],
   "source": [
    "# Python program to print all permutations using\n",
    "# Heap's algorithm\n",
    "\n",
    "# https://www.geeksforgeeks.org/heaps-algorithm-for-generating-permutations/\n",
    "# https://en.wikipedia.org/wiki/Heap%27s_algorithm\n",
    "\n",
    "# Generating permutations using Heap Algorithm\n",
    "def heap_perm(num_arr: list, size: int) -> None:\n",
    "    if size == 1:\n",
    "        print(\"{}\".format(num_arr))\n",
    "        return\n",
    "    \n",
    "    for i in range(0, size):\n",
    "        heap_perm(num_arr, size - 1)\n",
    "\n",
    "        if size & 1:\n",
    "            # if size is odd, swap 0th i.e (first) and (size - 1)th i.e (last) element\n",
    "            num_arr[0], num_arr[size - 1] = num_arr[size - 1], num_arr[0]\n",
    "        else:\n",
    "            # else If size is even, swap ith and (size - 1)th i.e (last) element\n",
    "            num_arr[i], num_arr[size - 1] = num_arr[size - 1], num_arr[i]\n",
    "\n",
    "print(\"{}\".format(heap_perm([1, 9, 7], 3)))"
   ]
  },
  {
   "cell_type": "code",
   "execution_count": 4,
   "metadata": {},
   "outputs": [
    {
     "data": {
      "text/plain": [
       "345"
      ]
     },
     "execution_count": 4,
     "metadata": {},
     "output_type": "execute_result"
    }
   ],
   "source": [
    "int(\"\".join([ch for ch in str(345)]))"
   ]
  },
  {
   "cell_type": "code",
   "execution_count": 5,
   "metadata": {},
   "outputs": [],
   "source": [
    "# int to list of ints\n",
    "# Ex. 345 -> [3, 4, 5]\n",
    "\n",
    "x = [int(ch) for ch in str(345)]"
   ]
  },
  {
   "cell_type": "code",
   "execution_count": null,
   "metadata": {},
   "outputs": [],
   "source": []
  }
 ],
 "metadata": {
  "kernelspec": {
   "display_name": "Python 3",
   "language": "python",
   "name": "python3"
  },
  "language_info": {
   "codemirror_mode": {
    "name": "ipython",
    "version": 3
   },
   "file_extension": ".py",
   "mimetype": "text/x-python",
   "name": "python",
   "nbconvert_exporter": "python",
   "pygments_lexer": "ipython3",
   "version": "3.7.3"
  }
 },
 "nbformat": 4,
 "nbformat_minor": 4
}
