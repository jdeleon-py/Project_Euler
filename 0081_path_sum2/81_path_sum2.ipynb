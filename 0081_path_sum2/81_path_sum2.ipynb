{
 "cells": [
  {
   "cell_type": "code",
   "execution_count": 2,
   "metadata": {},
   "outputs": [],
   "source": [
    "import numpy as np"
   ]
  },
  {
   "cell_type": "code",
   "execution_count": null,
   "metadata": {},
   "outputs": [],
   "source": []
  },
  {
   "cell_type": "markdown",
   "metadata": {},
   "source": [
    "<p>In the $5$ by $5$ matrix below, the minimal path sum from the top left to the bottom right, by <b>only moving to the right and down</b>, is indicated in bold red and is equal to $2427$.</p>\n",
    "<div class=\"center\">\n",
    "$$\n",
    "\\begin{pmatrix}\n",
    "\\color{red}{131} &amp; 673 &amp; 234 &amp; 103 &amp; 18\\\\\n",
    "\\color{red}{201} &amp; \\color{red}{96} &amp; \\color{red}{342} &amp; 965 &amp; 150\\\\\n",
    "630 &amp; 803 &amp; \\color{red}{746} &amp; \\color{red}{422} &amp; 111\\\\\n",
    "537 &amp; 699 &amp; 497 &amp; \\color{red}{121} &amp; 956\\\\\n",
    "805 &amp; 732 &amp; 524 &amp; \\color{red}{37} &amp; \\color{red}{331}\n",
    "\\end{pmatrix}\n",
    "$$\n",
    "</div>\n",
    "<p>Find the minimal path sum from the top left to the bottom right by only moving right and down in <a href=\"resources/documents/0081_matrix.txt\">matrix.txt</a> (right click and \"Save Link/Target As...\"), a 31K text file containing an $80$ by $80$ matrix.</p>"
   ]
  },
  {
   "cell_type": "code",
   "execution_count": null,
   "metadata": {},
   "outputs": [],
   "source": []
  },
  {
   "cell_type": "code",
   "execution_count": 4,
   "metadata": {},
   "outputs": [
    {
     "ename": "IndexError",
     "evalue": "index 5 is out of bounds for axis 0 with size 5",
     "output_type": "error",
     "traceback": [
      "\u001b[0;31m---------------------------------------------------------------------------\u001b[0m",
      "\u001b[0;31mIndexError\u001b[0m                                Traceback (most recent call last)",
      "Input \u001b[0;32mIn [4]\u001b[0m, in \u001b[0;36m<cell line: 38>\u001b[0;34m()\u001b[0m\n\u001b[1;32m     45\u001b[0m \u001b[38;5;28;01mif\u001b[39;00m arr_test[idx_i \u001b[38;5;241m+\u001b[39m \u001b[38;5;241m1\u001b[39m][idx_j] \u001b[38;5;241m<\u001b[39m\u001b[38;5;241m=\u001b[39m arr_test[idx_i][idx_j \u001b[38;5;241m+\u001b[39m \u001b[38;5;241m1\u001b[39m]:\n\u001b[1;32m     46\u001b[0m     idx_i \u001b[38;5;241m+\u001b[39m\u001b[38;5;241m=\u001b[39m \u001b[38;5;241m1\u001b[39m\n\u001b[0;32m---> 47\u001b[0m \u001b[38;5;28;01mif\u001b[39;00m arr_test[idx_i][idx_j \u001b[38;5;241m+\u001b[39m \u001b[38;5;241m1\u001b[39m] \u001b[38;5;241m<\u001b[39m\u001b[38;5;241m=\u001b[39m \u001b[43marr_test\u001b[49m\u001b[43m[\u001b[49m\u001b[43midx_i\u001b[49m\u001b[43m \u001b[49m\u001b[38;5;241;43m+\u001b[39;49m\u001b[43m \u001b[49m\u001b[38;5;241;43m1\u001b[39;49m\u001b[43m]\u001b[49m[idx_j]:\n\u001b[1;32m     48\u001b[0m     idx_j \u001b[38;5;241m+\u001b[39m\u001b[38;5;241m=\u001b[39m \u001b[38;5;241m1\u001b[39m\n",
      "\u001b[0;31mIndexError\u001b[0m: index 5 is out of bounds for axis 0 with size 5"
     ]
    }
   ],
   "source": [
    "# test for given array\n",
    "\n",
    "'''\n",
    "- assume this program applies to square matrices only\n",
    "- for any [i][j], check position down and right. \n",
    "  choose the min value of both and move to that position.\n",
    "'''\n",
    "\n",
    "arr_test = np.array([[131, 673, 234, 103, 18],\n",
    "                     [201, 96, 342, 965, 150],\n",
    "                     [630, 96, 746, 422, 111],\n",
    "                     [537, 699, 497, 121, 956],\n",
    "                     [805, 732, 524, 37, 331]])\n",
    "\n",
    "ROWS, COLS = arr_test.shape\n",
    "\n",
    "def check_next(arr: list[list], i: int, j: int) -> (int, int):\n",
    "    '''\n",
    "    - position indices for the next iteration\n",
    "    - once moved, gather value to increase minimal sum\n",
    "    \n",
    "    - if i >= DIM, do not move down any further\n",
    "    - if j >= DIM, do not move right any further\n",
    "    '''\n",
    "    if i == ROWS - 1 and j == COLS - 1: return i, j\n",
    "\n",
    "    if i >= ROWS - 1 and j < COLS:\n",
    "        return i, j + 1\n",
    "    elif i < ROWS and j >= COLS - 1:\n",
    "        return i + 1, j\n",
    "    else:\n",
    "        if arr[i + 1][j] <= arr[i][j + 1]:\n",
    "            return i + 1, j\n",
    "        if arr[i][j + 1] <= arr[i + 1][j]:\n",
    "            return i, j + 1\n",
    "        \n",
    "\n",
    "if __name__ == \"__main__\":\n",
    "    arr_sum = 0\n",
    "    idx_i, idx_j = 0, 0\n",
    "\n",
    "    while idx_i <= ROWS - 1 and idx_j <= COLS - 1:\n",
    "        arr_sum += arr_test[idx_i][idx_j]\n",
    "        #idx_i, idx_j = check_next(arr_test, idx_i, idx_j)\n",
    "        \n",
    "        if arr_test[idx_i + 1][idx_j] <= arr_test[idx_i][idx_j + 1]:\n",
    "            idx_i += 1\n",
    "        if arr_test[idx_i][idx_j + 1] <= arr_test[idx_i + 1][idx_j]:\n",
    "            idx_j += 1"
   ]
  },
  {
   "cell_type": "code",
   "execution_count": null,
   "metadata": {},
   "outputs": [],
   "source": []
  },
  {
   "cell_type": "code",
   "execution_count": 5,
   "metadata": {},
   "outputs": [
    {
     "data": {
      "text/plain": [
       "941"
      ]
     },
     "execution_count": 5,
     "metadata": {},
     "output_type": "execute_result"
    }
   ],
   "source": [
    "arr_sum"
   ]
  },
  {
   "cell_type": "code",
   "execution_count": null,
   "metadata": {},
   "outputs": [],
   "source": [
    "# file processing\n",
    "# (.txt) -> np.array([[]])\n",
    "\n",
    "if __name__ == \"__main__\":\n",
    "    FILENAME = \"0081_matrix.txt\"\n",
    "    FILE_DIM = 80\n",
    "    \n",
    "    with open(FILENAME, \"r\") as file:\n",
    "        text = file.read()\n",
    "    file.close()\n",
    "    \n",
    "    text = text.split(\"\\n\")\n",
    "    text = [i.split(\",\") for i in text]\n",
    "    data = np.array(text[:FILE_DIM], dtype = int)\n",
    "\n",
    "    print(\"{}\".format(data))\n",
    "    print(\"Done.\")"
   ]
  },
  {
   "cell_type": "code",
   "execution_count": null,
   "metadata": {},
   "outputs": [],
   "source": []
  },
  {
   "cell_type": "code",
   "execution_count": null,
   "metadata": {},
   "outputs": [],
   "source": []
  },
  {
   "cell_type": "code",
   "execution_count": null,
   "metadata": {},
   "outputs": [],
   "source": []
  },
  {
   "cell_type": "code",
   "execution_count": null,
   "metadata": {},
   "outputs": [],
   "source": []
  }
 ],
 "metadata": {
  "kernelspec": {
   "display_name": "data_science_env",
   "language": "python",
   "name": "data_science_env"
  },
  "language_info": {
   "codemirror_mode": {
    "name": "ipython",
    "version": 3
   },
   "file_extension": ".py",
   "mimetype": "text/x-python",
   "name": "python",
   "nbconvert_exporter": "python",
   "pygments_lexer": "ipython3",
   "version": "3.9.7"
  }
 },
 "nbformat": 4,
 "nbformat_minor": 4
}
