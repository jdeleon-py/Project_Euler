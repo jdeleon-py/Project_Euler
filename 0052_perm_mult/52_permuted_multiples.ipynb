{
 "cells": [
  {
   "cell_type": "code",
   "execution_count": 1,
   "metadata": {},
   "outputs": [],
   "source": [
    "import numpy as np"
   ]
  },
  {
   "cell_type": "code",
   "execution_count": null,
   "metadata": {},
   "outputs": [],
   "source": []
  },
  {
   "cell_type": "markdown",
   "metadata": {},
   "source": [
    "<p>It can be seen that the number, $125874$, and its double, $251748$, contain exactly the same digits, but in a different order.</p>\n",
    "<p>Find the smallest positive integer, $x$, such that $2x$, $3x$, $4x$, $5x$, and $6x$, contain the same digits.</p>"
   ]
  },
  {
   "cell_type": "code",
   "execution_count": null,
   "metadata": {},
   "outputs": [],
   "source": []
  },
  {
   "cell_type": "code",
   "execution_count": 15,
   "metadata": {},
   "outputs": [],
   "source": [
    "x = 125874\n",
    "x_arr = np.array([int(i) for i in str(x)])\n",
    "\n",
    "y = 251748\n",
    "y_arr = np.array([int(i) for i in str(x)])"
   ]
  },
  {
   "cell_type": "code",
   "execution_count": 23,
   "metadata": {},
   "outputs": [],
   "source": [
    "x_arr_sort = np.sort(x_arr)"
   ]
  },
  {
   "cell_type": "code",
   "execution_count": 24,
   "metadata": {},
   "outputs": [],
   "source": [
    "y_arr_sort = np.sort(y_arr)"
   ]
  },
  {
   "cell_type": "code",
   "execution_count": 33,
   "metadata": {},
   "outputs": [
    {
     "data": {
      "text/plain": [
       "True"
      ]
     },
     "execution_count": 33,
     "metadata": {},
     "output_type": "execute_result"
    }
   ],
   "source": [
    "np.array_equal(x_arr_sort, y_arr_sort)"
   ]
  },
  {
   "cell_type": "code",
   "execution_count": 40,
   "metadata": {},
   "outputs": [
    {
     "name": "stdout",
     "output_type": "stream",
     "text": [
      "True\n"
     ]
    }
   ],
   "source": [
    "# define a function determining whether two given integers are permuted multiples of each other\n",
    "\n",
    "def is_perm(x1: int, x2: int) -> bool:\n",
    "    arr1 = np.sort(np.array([int(i) for i in str(x1)]))\n",
    "    arr2 = np.sort(np.array([int(i) for i in str(x2)]))\n",
    "    return np.array_equal(arr1, arr2)\n",
    "\n",
    "if __name__ == \"__main__\":\n",
    "    x1 = 125874\n",
    "    x2 = 251748\n",
    "    print(\"{}\".format(is_perm(x1, x2)))"
   ]
  },
  {
   "cell_type": "code",
   "execution_count": 44,
   "metadata": {},
   "outputs": [],
   "source": [
    "# for each x, store multiples 2x-6x in an array\n",
    "def store_mult(num: int) -> list:\n",
    "    mults = [0, 0, 0, 0, 0]\n",
    "    for i in range(0, 5):\n",
    "        mults[i] = (i + 2) * num\n",
    "    return mults\n",
    "    "
   ]
  },
  {
   "cell_type": "code",
   "execution_count": 46,
   "metadata": {},
   "outputs": [
    {
     "data": {
      "text/plain": [
       "[8, 12, 16, 20, 24]"
      ]
     },
     "execution_count": 46,
     "metadata": {},
     "output_type": "execute_result"
    }
   ],
   "source": [
    "store_mult(4)"
   ]
  },
  {
   "cell_type": "code",
   "execution_count": null,
   "metadata": {},
   "outputs": [],
   "source": []
  },
  {
   "cell_type": "code",
   "execution_count": 52,
   "metadata": {},
   "outputs": [
    {
     "name": "stdout",
     "output_type": "stream",
     "text": [
      "x = 142857: multiples: [285714, 428571, 571428, 714285, 857142]\n",
      "x = 1428570: multiples: [2857140, 4285710, 5714280, 7142850, 8571420]\n",
      "x = 1429857: multiples: [2859714, 4289571, 5719428, 7149285, 8579142]\n",
      "Done\n"
     ]
    }
   ],
   "source": [
    "# define a function determining whether two given \n",
    "# integers are permuted multiples of each other\n",
    "def is_perm(x1: int, x2: int) -> bool:\n",
    "    arr1 = np.sort(np.array([int(i) for i in str(x1)]))\n",
    "    arr2 = np.sort(np.array([int(i) for i in str(x2)]))\n",
    "    return np.array_equal(arr1, arr2)\n",
    "\n",
    "# for each x, store multiples 2x-6x in an array\n",
    "def store_mult(num: int) -> list:\n",
    "    mults = [0, 0, 0, 0, 0]\n",
    "    for i in range(0, 5):\n",
    "        mults[i] = (i + 2) * num\n",
    "    return mults\n",
    "\n",
    "if __name__ == \"__main__\":\n",
    "    for i in range(1, 10000000):\n",
    "        mults = store_mult(i)\n",
    "        cond1 = is_perm(mults[0], mults[1])\n",
    "        cond2 = is_perm(mults[1], mults[2])\n",
    "        cond3 = is_perm(mults[2], mults[3])\n",
    "        cond4 = is_perm(mults[3], mults[4])\n",
    "        if(cond1 and cond2 and cond3 and cond4):\n",
    "            print(\"x = {0}: multiples: {1}\".format(i, mults))\n",
    "    print(\"Done\")"
   ]
  },
  {
   "cell_type": "code",
   "execution_count": null,
   "metadata": {},
   "outputs": [],
   "source": []
  }
 ],
 "metadata": {
  "kernelspec": {
   "display_name": "data_science_env",
   "language": "python",
   "name": "data_science_env"
  },
  "language_info": {
   "codemirror_mode": {
    "name": "ipython",
    "version": 3
   },
   "file_extension": ".py",
   "mimetype": "text/x-python",
   "name": "python",
   "nbconvert_exporter": "python",
   "pygments_lexer": "ipython3",
   "version": "3.9.7"
  }
 },
 "nbformat": 4,
 "nbformat_minor": 4
}
