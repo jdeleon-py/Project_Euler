{
 "cells": [
  {
   "cell_type": "code",
   "execution_count": 9,
   "metadata": {},
   "outputs": [],
   "source": [
    "import numpy as np\n",
    "from numpy import linalg"
   ]
  },
  {
   "cell_type": "code",
   "execution_count": null,
   "metadata": {},
   "outputs": [],
   "source": []
  },
  {
   "cell_type": "code",
   "execution_count": 10,
   "metadata": {},
   "outputs": [
    {
     "data": {
      "text/plain": [
       "'\\nProject Euler - 345: Matrix Sum\\n\\nWe define the Matrix Sum of a matrix as the maximum possible sum of matrix \\nelements such that none of the selected elements share the same row or column.\\n\\nFor example,\\n\\n[[7  53 183 439 863\\n497 383 563  79 973\\n287  63 343 169 583\\n627 343 773 959 943\\n767 473 103 699 303]]\\n\\nhas the maximum sum of 3315 ([0,4] + [4,0] + [1,1] + [2,2] + [3,3])\\n\\nNotes:\\n- with a brute force checking of all possible combinations, n! checks could be made for a nxn matrix\\n- n elements will be chosen for the sum, assuming this problem deals only with square matrices\\n- algorithms:\\n    - brute force\\n    - backtracking\\n    - Hungarian Algorithm\\n    - search trees?\\n    - permutation matrix\\n'"
      ]
     },
     "execution_count": 10,
     "metadata": {},
     "output_type": "execute_result"
    }
   ],
   "source": [
    "'''\n",
    "Project Euler - 345: Matrix Sum\n",
    "\n",
    "We define the Matrix Sum of a matrix as the maximum possible sum of matrix \n",
    "elements such that none of the selected elements share the same row or column.\n",
    "\n",
    "For example,\n",
    "\n",
    "[[7  53 183 439 863\n",
    "497 383 563  79 973\n",
    "287  63 343 169 583\n",
    "627 343 773 959 943\n",
    "767 473 103 699 303]]\n",
    "\n",
    "has the maximum sum of 3315 ([0,4] + [4,0] + [1,1] + [2,2] + [3,3])\n",
    "\n",
    "Notes:\n",
    "- with a brute force checking of all possible combinations, n! checks could be made for a nxn matrix\n",
    "- n elements will be chosen for the sum, assuming this problem deals only with square matrices\n",
    "- rows in the matrix can be permuted to maximize the trace of the matrix\n",
    "- algorithms:\n",
    "    - brute force\n",
    "    - Hungarian Algorithm !!\n",
    "    - permutation matrix\n",
    "'''"
   ]
  },
  {
   "cell_type": "code",
   "execution_count": null,
   "metadata": {},
   "outputs": [],
   "source": [
    "'''\n",
    "Target Matrix (15x15):\n",
    "\n",
    "  7  53 183 439 863 497 383 563  79 973 287  63 343 169 583\n",
    "627 343 773 959 943 767 473 103 699 303 957 703 583 639 913\n",
    "447 283 463  29  23 487 463 993 119 883 327 493 423 159 743\n",
    "217 623   3 399 853 407 103 983  89 463 290 516 212 462 350\n",
    "960 376 682 962 300 780 486 502 912 800 250 346 172 812 350\n",
    "870 456 192 162 593 473 915  45 989 873 823 965 425 329 803\n",
    "973 965 905 919 133 673 665 235 509 613 673 815 165 992 326\n",
    "322 148 972 962 286 255 941 541 265 323 925 281 601  95 973\n",
    "445 721  11 525 473  65 511 164 138 672  18 428 154 448 848\n",
    "414 456 310 312 798 104 566 520 302 248 694 976 430 392 198\n",
    "184 829 373 181 631 101 969 613 840 740 778 458 284 760 390\n",
    "821 461 843 513  17 901 711 993 293 157 274  94 192 156 574\n",
    " 34 124   4 878 450 476 712 914 838 669 875 299 823 329 699\n",
    "815 559 813 459 522 788 168 586 966 232 308 833 251 631 107\n",
    "813 883 451 509 615  77 281 613 459 205 380 274 302  35 805\n",
    "'''"
   ]
  },
  {
   "cell_type": "code",
   "execution_count": 6,
   "metadata": {},
   "outputs": [],
   "source": [
    "arr_ex = np.array([[7, 53, 183, 439, 863],\n",
    "                   [497, 383, 563, 79, 973],\n",
    "                   [287, 63, 343, 169, 583],\n",
    "                   [627, 343, 773, 959, 943],\n",
    "                   [767, 473, 103, 699, 303]]\n",
    ")\n",
    "\n",
    "arr1 = np.identity(3)"
   ]
  },
  {
   "cell_type": "code",
   "execution_count": null,
   "metadata": {},
   "outputs": [],
   "source": []
  },
  {
   "cell_type": "code",
   "execution_count": null,
   "metadata": {},
   "outputs": [],
   "source": []
  }
 ],
 "metadata": {
  "kernelspec": {
   "display_name": "data_science_env",
   "language": "python",
   "name": "data_science_env"
  },
  "language_info": {
   "codemirror_mode": {
    "name": "ipython",
    "version": 3
   },
   "file_extension": ".py",
   "mimetype": "text/x-python",
   "name": "python",
   "nbconvert_exporter": "python",
   "pygments_lexer": "ipython3",
   "version": "3.9.7"
  }
 },
 "nbformat": 4,
 "nbformat_minor": 4
}
