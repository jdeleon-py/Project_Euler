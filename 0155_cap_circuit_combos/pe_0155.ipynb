{
 "cells": [
  {
   "cell_type": "markdown",
   "metadata": {},
   "source": [
    "<p>An electric circuit uses exclusively identical capacitors of the same value $C$.\n",
    "<br>\n",
    "The capacitors can be connected in series or in parallel to form sub-units, which can then be connected in series or in parallel with other capacitors or other sub-units to form larger sub-units, and so on up to a final circuit.</p>\n",
    "<p>Using this simple procedure and up to $n$ identical capacitors, we can make circuits having a range of different total capacitances. For example, using up to $n=3$ capacitors of $60 \\mu \\text{F}$ each, we can obtain the following $7$ distinct total capacitance values: </p>\n",
    "<div class=\"center\"><img src=\"cap_img.png\" class=\"dark_img\" alt=\"\"></div>\n",
    "<p>If we denote by $D(n)$ the number of distinct total capacitance values we can obtain when using up to $n$ equal-valued capacitors and the simple procedure described above, we have: $D(1)=1$, $D(2)=3$, $D(3)=7$, $\\dots$</p>\n",
    "<p>Find $D(18)$.</p>\n",
    "<p><i>Reminder:</i> When connecting capacitors $C_1, C_2$ etc in parallel, the total capacitance is $C_T = C_1 + C_2 + \\cdots$,\n",
    "<br>\n",
    "whereas when connecting them in series, the overall capacitance is given by: $\\dfrac{1}{C_T} = \\dfrac{1}{C_1} + \\dfrac{1}{C_2} + \\cdots$</p>"
   ]
  },
  {
   "cell_type": "code",
   "execution_count": null,
   "metadata": {},
   "outputs": [],
   "source": []
  },
  {
   "cell_type": "code",
   "execution_count": null,
   "metadata": {},
   "outputs": [],
   "source": []
  },
  {
   "cell_type": "markdown",
   "metadata": {},
   "source": [
    "<p>Let k be the maximum number of capacitors that can be used to create a combinational circuit of capacitors in series and parallel. Let $F$ define the number of circuit combinations that can be made with an assortment of $k$ capacitors. From the problem, it can be shown that $F(1) = 1$, $F(2) = 3$, $F(3) = 7$. It can be observed from a distance that a model can be formed to calculate the number of combinational circuit configurations, as described below.</p>\n",
    "\n",
    "$$F(k) = F(k - 1) + 2^{k - 1} \\text{, } k \\geq 2$$\n",
    "\n",
    "<p>where $F(1) = 1$.</p>\n",
    "<p>For instance, for $k = 4$, the number of combinational circuit configurations is 15, which can be verified in that there are 8 unique configurations using 4 capacitors only.</p>\n",
    "<p>However, the model described is incomplete for the problem we are trying to solve. Although the model above is exact for the total number of combinational circuits, it is inexact in the number of unique capacitance values derived from the circuit combination. For instance, for $k = 4$, there exists a combination of 4 capacitors that yields an equivalent capacitance of $C$, which has already been defined for the $k = 1$ case. Specifically, a single parallel branching of two series capacitors on either branch yields an equivalent capacitance of $C$. Therefore, there are reduncacies in the defined model that need to be reduced in order to determine the total number of unique equaivalent capacitance values. The complete model is as follows, where $x_n$ represents the number of redundant capacitor equivalence values in the $k^{\\text{th}}$that do not contribute to D(k).</p>\n",
    "\n",
    "$$D(k) = D(k - 1) + 2^{k - 1} - x_k \\text{, } k \\geq 2$$\n",
    "<p>where $D(1) = 1$.</p>\n",
    "\n",
    "<p>Specific to the problem, if there is at least one redundancy, which we have provided an example for, then the final answer must be-</p>\n",
    "$$D(18) < F(18) = 262143$$"
   ]
  },
  {
   "cell_type": "code",
   "execution_count": null,
   "metadata": {},
   "outputs": [],
   "source": []
  },
  {
   "cell_type": "code",
   "execution_count": 5,
   "metadata": {},
   "outputs": [
    {
     "name": "stdout",
     "output_type": "stream",
     "text": [
      "F(1) = 1\n",
      "F(2) = 3\n",
      "F(3) = 7\n",
      "F(4) = 15\n",
      "F(5) = 31\n",
      "F(6) = 63\n",
      "F(7) = 127\n",
      "F(8) = 255\n",
      "F(9) = 511\n",
      "F(10) = 1023\n",
      "F(11) = 2047\n",
      "F(12) = 4095\n",
      "F(13) = 8191\n",
      "F(14) = 16383\n",
      "F(15) = 32767\n",
      "F(16) = 65535\n",
      "F(17) = 131071\n",
      "F(18) = 262143\n"
     ]
    }
   ],
   "source": [
    "# combination model for 1 <= k <= 18\n",
    "F: int = lambda k: int(F(k - 1) + 2 ** (k - 1)) if k != 1 else 1\n",
    "\n",
    "if __name__ == \"__main__\":\n",
    "    for i in range(1, 19):\n",
    "        print(\"F({0}) = {1}\".format(i, F(i)))"
   ]
  },
  {
   "cell_type": "code",
   "execution_count": null,
   "metadata": {},
   "outputs": [],
   "source": []
  },
  {
   "cell_type": "markdown",
   "metadata": {},
   "source": [
    "<p>Observing the set of capacitance equivalences obtained through each iteration of $k$ for the first few iterations,</p>\n",
    "\n",
    "$$D(k = 1): \\{C\\}$$\n",
    "$$D(k = 2): D(k = 1) + \\{\\frac{C}{2}, 2C\\} = \\{\\frac{C}{2}, C, 2C\\}$$\n",
    "$$D(k = 3): D(k = 2) + \\{\\frac{C}{3}, \\frac{2C}{3}, \\frac{3C}{2}, 3C\\} = \\{\\frac{C}{3}, \\frac{C}{2}, \\frac{2C}{3}, C, \\frac{3C}{2}, 2C, 3C\\}$$"
   ]
  },
  {
   "cell_type": "code",
   "execution_count": 6,
   "metadata": {},
   "outputs": [
    {
     "name": "stdout",
     "output_type": "stream",
     "text": [
      "F2(1) = 1\n",
      "F2(2) = 3\n",
      "F2(3) = 7\n",
      "F2(4) = 15\n",
      "F2(5) = 31\n",
      "F2(6) = 63\n",
      "F2(7) = 127\n",
      "F2(8) = 255\n",
      "F2(9) = 511\n",
      "F2(10) = 1023\n",
      "F2(11) = 2047\n",
      "F2(12) = 4095\n",
      "F2(13) = 8191\n",
      "F2(14) = 16383\n",
      "F2(15) = 32767\n",
      "F2(16) = 65535\n",
      "F2(17) = 131071\n",
      "F2(18) = 262143\n"
     ]
    }
   ],
   "source": [
    "F2: int = lambda k: (2 ** k) - 1\n",
    "\n",
    "if __name__ == \"__main__\":\n",
    "    for i in range(1, 19):\n",
    "        print(\"F2({0}) = {1}\".format(i, F2(i)))\n",
    "\n",
    "# it can be proven by strong induction that F(k) = F(k - 1) + 2^{k - 1} = 2^k - 1"
   ]
  },
  {
   "cell_type": "code",
   "execution_count": null,
   "metadata": {},
   "outputs": [],
   "source": []
  },
  {
   "cell_type": "code",
   "execution_count": 13,
   "metadata": {},
   "outputs": [
    {
     "name": "stdout",
     "output_type": "stream",
     "text": [
      "D(1) = 1\n",
      "D(2) = 3\n",
      "D(3) = 7\n",
      "D(4) = 14\n",
      "D(5) = 28\n",
      "D(6) = 56\n",
      "D(7) = 112\n",
      "D(8) = 224\n",
      "D(9) = 448\n",
      "D(10) = 896\n",
      "D(11) = 1792\n",
      "D(12) = 3584\n",
      "D(13) = 7168\n",
      "D(14) = 14336\n",
      "D(15) = 28672\n",
      "D(16) = 57344\n",
      "D(17) = 114688\n",
      "D(18) = 229376\n"
     ]
    }
   ],
   "source": [
    "# for all k >= 3\n",
    "def D(k: int) -> int:\n",
    "    ret: int = 0\n",
    "    if k == 1:\n",
    "        return 1\n",
    "    elif k == 2:\n",
    "        return 3\n",
    "    elif(k == 3):\n",
    "        return 7\n",
    "    else:\n",
    "        return F(k) - F(k - 3)\n",
    "        # return 7 * (2 ** (k - 3))\n",
    "    \n",
    "if __name__ == \"__main__\":\n",
    "    for i in range(1, 19):\n",
    "        print(\"D({0}) = {1}\".format(i, D(i)))"
   ]
  },
  {
   "cell_type": "code",
   "execution_count": null,
   "metadata": {},
   "outputs": [],
   "source": []
  },
  {
   "cell_type": "code",
   "execution_count": null,
   "metadata": {},
   "outputs": [],
   "source": []
  },
  {
   "cell_type": "code",
   "execution_count": null,
   "metadata": {},
   "outputs": [],
   "source": [
    "# 3857447 !?"
   ]
  }
 ],
 "metadata": {
  "kernelspec": {
   "display_name": "Python 3",
   "language": "python",
   "name": "python3"
  },
  "language_info": {
   "codemirror_mode": {
    "name": "ipython",
    "version": 3
   },
   "file_extension": ".py",
   "mimetype": "text/x-python",
   "name": "python",
   "nbconvert_exporter": "python",
   "pygments_lexer": "ipython3",
   "version": "3.7.3"
  }
 },
 "nbformat": 4,
 "nbformat_minor": 4
}
