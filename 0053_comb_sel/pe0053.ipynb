{
 "cells": [
  {
   "cell_type": "markdown",
   "metadata": {},
   "source": [
    "<p>There are exactly ten ways of selecting three from five, 12345:</p>\n",
    "<p class=\"center\">123, 124, 125, 134, 135, 145, 234, 235, 245, and 345</p>\n",
    "<p>In combinatorics, we use the notation, $\\displaystyle \\binom 5 3 = 10$.</p>\n",
    "<p>In general, $\\displaystyle \\binom n r = \\dfrac{n!}{r!(n-r)!}$, where $r \\le n$, $n! = n \\times (n-1) \\times ... \\times 3 \\times 2 \\times 1$, and $0! = 1$.\n",
    "</p>\n",
    "<p>It is not until $n = 23$, that a value exceeds one-million: $\\displaystyle \\binom {23} {10} = 1144066$.</p>\n",
    "<p>How many, not necessarily distinct, values of $\\displaystyle \\binom n r$ for $1 \\le n \\le 100$, are greater than one-million?</p>"
   ]
  },
  {
   "cell_type": "code",
   "execution_count": null,
   "metadata": {},
   "outputs": [],
   "source": []
  },
  {
   "cell_type": "markdown",
   "metadata": {},
   "source": [
    "<p>Upon initial inspection, a recursive factorial algorithm will produce a recursion error. So, we will opt for an iterative algorithm, described below.</p>"
   ]
  },
  {
   "cell_type": "code",
   "execution_count": 6,
   "metadata": {},
   "outputs": [
    {
     "name": "stdout",
     "output_type": "stream",
     "text": [
      "3! = 6\n",
      "5! = 120\n",
      "10! = 3628800\n",
      "20! = 2432902008176640000\n"
     ]
    }
   ],
   "source": [
    "# factorial algorithm\n",
    "\n",
    "def factorial(n: int) -> int:\n",
    "    if n < 0: return -1\n",
    "    if n == 0 or n == 1: return 1\n",
    "    else:\n",
    "        res: int = 1\n",
    "        for i in range(1, n + 1):\n",
    "            res = res * i\n",
    "        return res\n",
    "\n",
    "if __name__ == \"__main__\":\n",
    "    print(\"3! = {}\".format(factorial(3)))\n",
    "    print(\"5! = {}\".format(factorial(5)))\n",
    "    print(\"10! = {}\".format(factorial(10)))\n",
    "    print(\"20! = {}\".format(factorial(20)))"
   ]
  },
  {
   "cell_type": "code",
   "execution_count": 7,
   "metadata": {},
   "outputs": [
    {
     "name": "stdout",
     "output_type": "stream",
     "text": [
      "(5 3) = 10\n",
      "(23, 10) = 1144066\n"
     ]
    }
   ],
   "source": [
    "# choose algorithm: (n r) = n! / (r! * (n - r)!)\n",
    "\n",
    "def choose(n: int, r: int) -> int:\n",
    "    return int(factorial(n) / (factorial(r) * factorial(n - r)))\n",
    "\n",
    "if __name__ == \"__main__\":\n",
    "    print(\"(5 3) = {}\".format(choose(5, 3)))\n",
    "    print(\"(23, 10) = {}\".format(choose(23, 10)))"
   ]
  },
  {
   "cell_type": "code",
   "execution_count": 8,
   "metadata": {},
   "outputs": [
    {
     "name": "stdout",
     "output_type": "stream",
     "text": [
      "count (n r) > 1000000: 4075\n"
     ]
    }
   ],
   "source": [
    "# main program\n",
    "\n",
    "if __name__ == \"__main__\":\n",
    "    acc: int = 0\n",
    "    for n in range(1, 101):\n",
    "        for r in range(1, n + 1):\n",
    "            if choose(n, r) > 1000000:\n",
    "                acc += 1\n",
    "    print(\"count (n r) > 1000000: {}\".format(acc))"
   ]
  },
  {
   "cell_type": "code",
   "execution_count": null,
   "metadata": {},
   "outputs": [],
   "source": []
  }
 ],
 "metadata": {
  "kernelspec": {
   "display_name": "Python 3",
   "language": "python",
   "name": "python3"
  },
  "language_info": {
   "codemirror_mode": {
    "name": "ipython",
    "version": 3
   },
   "file_extension": ".py",
   "mimetype": "text/x-python",
   "name": "python",
   "nbconvert_exporter": "python",
   "pygments_lexer": "ipython3",
   "version": "3.7.3"
  }
 },
 "nbformat": 4,
 "nbformat_minor": 4
}
